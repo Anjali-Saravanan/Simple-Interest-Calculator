{
  "nbformat": 4,
  "nbformat_minor": 0,
  "metadata": {
    "colab": {
      "name": "Simple Interest Calculator.ipynb",
      "provenance": [],
      "collapsed_sections": [],
      "authorship_tag": "ABX9TyMsrkWA2BiaIPStUx591fDL",
      "include_colab_link": true
    },
    "kernelspec": {
      "name": "python3",
      "display_name": "Python 3"
    },
    "language_info": {
      "name": "python"
    }
  },
  "cells": [
    {
      "cell_type": "markdown",
      "metadata": {
        "id": "view-in-github",
        "colab_type": "text"
      },
      "source": [
        "<a href=\"https://colab.research.google.com/github/Anjali-Saravanan/Simple-Interest-Calculator/blob/main/Simple_Interest_Calculator.ipynb\" target=\"_parent\"><img src=\"https://colab.research.google.com/assets/colab-badge.svg\" alt=\"Open In Colab\"/></a>"
      ]
    },
    {
      "cell_type": "code",
      "metadata": {
        "colab": {
          "base_uri": "https://localhost:8080/"
        },
        "id": "hrufKpEwwCJq",
        "outputId": "a8f65f26-f280-4ed6-b617-75200fc12664"
      },
      "source": [
        "#simple interest\n",
        "p = int(input(\"Enter the principal amount: \"))\n",
        "r = int(input(\"Enter the rate of interest: \"))\n",
        "t = int(input(\"Enter the number of years: \"))\n",
        "\n",
        "SI = (p*r*t)/100\n",
        "print(int(SI))\n"
      ],
      "execution_count": 1,
      "outputs": [
        {
          "output_type": "stream",
          "name": "stdout",
          "text": [
            "Enter the principal amount: 1000\n",
            "Enter the rate of interest: 2\n",
            "Enter the number of years: 34\n",
            "680\n"
          ]
        }
      ]
    }
  ]
}